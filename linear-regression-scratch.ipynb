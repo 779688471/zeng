{
 "cells": [
  {
   "cell_type": "code",
   "execution_count": 2,
   "metadata": {},
   "outputs": [
    {
     "data": {
      "image/png": "[encoded data removed]",
      "text/plain": [
       "<Figure size 252x180 with 1 Axes>"
      ]
     },
     "metadata": {
      "image/png": {
       "height": 168,
       "width": 239
      }
     },
     "output_type": "display_data"
    },
    {
     "name": "stdout",
     "output_type": "stream",
     "text": [
      "\n",
      "[[-0.02341726 -1.2996607 ]\n",
      " [-1.4110408   1.002317  ]\n",
      " [-1.0984623  -1.0842608 ]\n",
      " [ 0.32475844  0.8709034 ]\n",
      " [ 1.1800139   0.25812253]\n",
      " [ 1.1172453   0.0924398 ]\n",
      " [ 0.2646684  -1.4747816 ]\n",
      " [-0.1528175   0.6748408 ]\n",
      " [ 1.7516011   0.13607101]\n",
      " [ 0.02744487 -1.3117542 ]]\n",
      "<NDArray 10x2 @cpu(0)> \n",
      "[ 8.584745  -2.016802   5.6867647  1.8769618  5.678473   6.1052623\n",
      "  9.732335   1.6087266  7.234599   8.7134285]\n",
      "<NDArray 10 @cpu(0)>\n",
      "epoch 1, loss 0.054754\n",
      "epoch 2, loss 0.000242\n",
      "epoch 3, loss 0.000049\n"
     ]
    },
    {
     "data": {
      "text/plain": [
       "(4.2, \n",
       " [4.199024]\n",
       " <NDArray 1 @cpu(0)>)"
      ]
     },
     "execution_count": 2,
     "metadata": {},
     "output_type": "execute_result"
    }
   ],
   "source": [
    "from IPython.display import set_matplotlib_formats\n",
    "from matplotlib import pyplot as plt\n",
    "from mxnet import autograd, nd\n",
    "import random\n",
    "#生成数据集\n",
    "num_inputs = 2\n",
    "num_examples = 1000\n",
    "true_w = [2, -3.4]\n",
    "true_b = 4.2\n",
    "features = nd.random.normal(scale=1, shape=(num_examples, num_inputs))\n",
    "labels = true_w[0] * features[:, 0] + true_w[1] * features[:, 1] + true_b\n",
    "labels += nd.random.normal(scale=0.01, shape=labels.shape)\n",
    "features[0], labels[0]\n",
    "\n",
    "def set_figsize(figsize=(3.5, 2.5)):\n",
    "    set_matplotlib_formats('retina')  # 打印高清图。\n",
    "    plt.rcParams['figure.figsize'] = figsize  # 设置图的尺寸。\n",
    "\n",
    "set_figsize()\n",
    "plt.scatter(features[:, 1].asnumpy(), labels.asnumpy(), 1)\n",
    "plt.show()\n",
    "#读取数据集\n",
    "batch_size = 10\n",
    "def data_iter(batch_size, features, labels):\n",
    "    num_examples = len(features)\n",
    "    indices = list(range(num_examples))\n",
    "    # 样本的读取顺序是随机的。\n",
    "    random.shuffle(indices)\n",
    "    for i in range(0, num_examples, batch_size):\n",
    "        j = nd.array(indices[i: min(i + batch_size, num_examples)])\n",
    "        # take 函数根据索引返回对应元素。\n",
    "        yield features.take(j), labels.take(j)\n",
    "for X, y in data_iter(batch_size, features, labels):\n",
    "    print(X, y)\n",
    "    break  \n",
    "#初始化模型参数\n",
    "w = nd.random.normal(scale=0.01, shape=(num_inputs, 1))\n",
    "b = nd.zeros(shape=(1,))\n",
    "params = [w, b]\n",
    "for param in params:\n",
    "    param.attach_grad()\n",
    "#定义模型\n",
    "def linreg(X, w, b): \n",
    "    return nd.dot(X, w) + b \n",
    "#定义损失函数\n",
    "def squared_loss(y_hat, y): \n",
    "    return (y_hat - y.reshape(y_hat.shape)) ** 2 / 2\n",
    "#定义优化算法\n",
    "def sgd(params, lr, batch_size):\n",
    "    for param in params:\n",
    "        param[:] = param - lr * param.grad / batch_size\n",
    "#训练模型\n",
    "lr = 0.03\n",
    "num_epochs = 3\n",
    "net = linreg\n",
    "loss = squared_loss\n",
    "\n",
    "# 训练模型一共需要 num_epochs 个迭代周期。\n",
    "for epoch in range(1, num_epochs + 1):\n",
    "    # 在一个迭代周期中，使用训练数据集中所有样本一次（假设样本数能够被批量大小整除）。\n",
    "    # X 和 y 分别是小批量样本的特征和标签。\n",
    "    for X, y in data_iter(batch_size, features, labels):\n",
    "        with autograd.record():\n",
    "            # l 是有关小批量 X 和 y 的损失。\n",
    "            l = loss(net(X, w, b), y)\n",
    "        # 小批量的损失对模型参数求导。\n",
    "        l.backward()\n",
    "        # 使用小批量随机梯度下降迭代模型参数。\n",
    "        sgd([w, b], lr, batch_size)\n",
    "    print('epoch %d, loss %f'\n",
    "          % (epoch, loss(net(features, w, b), labels).mean().asnumpy()))\n",
    "#打印出训练参数与真实参数\n",
    "true_w, w\n",
    "true_b, b\n",
    "        "
   ]
  }
 ],
 "metadata": {
  "kernelspec": {
   "display_name": "Python 3",
   "language": "python",
   "name": "python3"
  },
  "language_info": {
   "codemirror_mode": {
    "name": "ipython",
    "version": 3
   },
   "file_extension": ".py",
   "mimetype": "text/x-python",
   "name": "python",
   "nbconvert_exporter": "python",
   "pygments_lexer": "ipython3",
   "version": "3.6.3"
  }
 },
 "nbformat": 4,
 "nbformat_minor": 2
}
