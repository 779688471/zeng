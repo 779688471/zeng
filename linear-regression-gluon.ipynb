{
 "cells": [
  {
   "cell_type": "code",
   "execution_count": 10,
   "metadata": {},
   "outputs": [
    {
     "name": "stdout",
     "output_type": "stream",
     "text": [
      "\n",
      "[[ 0.2226207  -0.37889585]\n",
      " [ 0.70158696 -0.9177472 ]\n",
      " [ 0.34216544  0.9102666 ]\n",
      " [-0.6522083  -0.89033264]\n",
      " [ 0.56650037  0.18814287]\n",
      " [-0.5002042   1.1808302 ]\n",
      " [ 0.74466014  0.75111115]\n",
      " [-0.18840562  0.3434608 ]\n",
      " [ 0.6843954  -0.08356052]\n",
      " [ 0.9056106   0.47664896]]\n",
      "<NDArray 10x2 @cpu(0)> \n",
      "[ 5.926667    8.715498    1.7989011   5.9378443   4.6846027  -0.81306213\n",
      "  3.1454473   2.6547961   5.841594    4.4037943 ]\n",
      "<NDArray 10 @cpu(0)>\n",
      "epoch 1, loss: 9.183155\n",
      "epoch 2, loss: 4.967710\n",
      "epoch 3, loss: 2.688105\n"
     ]
    },
    {
     "data": {
      "text/plain": [
       "(4.2, \n",
       " [2.5176063]\n",
       " <NDArray 1 @cpu(0)>)"
      ]
     },
     "execution_count": 10,
     "metadata": {},
     "output_type": "execute_result"
    }
   ],
   "source": [
    "#生成数据集\n",
    "from mxnet import autograd, nd\n",
    "\n",
    "num_inputs = 2\n",
    "num_examples = 1000\n",
    "true_w = [2, -3.4]\n",
    "true_b = 4.2\n",
    "features = nd.random.normal(scale=1, shape=(num_examples, num_inputs))\n",
    "labels = true_w[0] * features[:, 0] + true_w[1] * features[:, 1] + true_b\n",
    "labels += nd.random.normal(scale=0.01, shape=labels.shape)\n",
    "#读取数据集\n",
    "from mxnet.gluon import data as gdata\n",
    "\n",
    "batch_size = 10\n",
    "# 将训练数据的特征和标签组合。\n",
    "dataset = gdata.ArrayDataset(features, labels)\n",
    "data_iter = gdata.DataLoader(dataset, batch_size, shuffle=True)\n",
    "#读取并打印第一个小批量数据样本\n",
    "for X, y in data_iter:\n",
    "    print(X, y)\n",
    "    break\n",
    "#定义模型\n",
    "from mxnet.gluon import nn\n",
    "net = nn.Sequential()\n",
    "net.add(nn.Dense(1))#未定义激活函数时为线性\n",
    "#初始化模型参数\n",
    "from mxnet import init\n",
    "net.initialize(init.Normal(sigma=0.01))\n",
    "#损失函数定义\n",
    "from mxnet.gluon import loss as gloss\n",
    "loss = gloss.L2Loss()\n",
    "#定义优化算法\n",
    "from mxnet import gluon\n",
    "trainer = gluon.Trainer(net.collect_params(),'sgd',{'learning_rate': 0.03})\n",
    "#训练模型\n",
    "num_epochs = 3\n",
    "for epoch in range(1, num_epochs + 1): \n",
    "    for X, y in data_iter:\n",
    "        with autograd.record():\n",
    "            l = loss(net(X), y).mean()\n",
    "        l.backward()\n",
    "        trainer.step(batch_size)\n",
    "    print('epoch %d, loss: %f'\n",
    "          % (epoch, loss(net(features), labels).mean().asnumpy()))\n",
    "dense = net[0]\n",
    "true_w, dense.weight.data()\n",
    "true_b, dense.bias.data()"
   ]
  }
 ],
 "metadata": {
  "kernelspec": {
   "display_name": "Python 3",
   "language": "python",
   "name": "python3"
  },
  "language_info": {
   "codemirror_mode": {
    "name": "ipython",
    "version": 3
   },
   "file_extension": ".py",
   "mimetype": "text/x-python",
   "name": "python",
   "nbconvert_exporter": "python",
   "pygments_lexer": "ipython3",
   "version": "3.6.3"
  }
 },
 "nbformat": 4,
 "nbformat_minor": 2
}
